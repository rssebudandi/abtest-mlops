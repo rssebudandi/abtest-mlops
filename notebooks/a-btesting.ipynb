{
 "cells": [
  {
   "cell_type": "code",
   "execution_count": 64,
   "id": "b86c0b25",
   "metadata": {},
   "outputs": [
    {
     "data": {
      "text/html": [
       "<div>\n",
       "<style scoped>\n",
       "    .dataframe tbody tr th:only-of-type {\n",
       "        vertical-align: middle;\n",
       "    }\n",
       "\n",
       "    .dataframe tbody tr th {\n",
       "        vertical-align: top;\n",
       "    }\n",
       "\n",
       "    .dataframe thead th {\n",
       "        text-align: right;\n",
       "    }\n",
       "</style>\n",
       "<table border=\"1\" class=\"dataframe\">\n",
       "  <thead>\n",
       "    <tr style=\"text-align: right;\">\n",
       "      <th></th>\n",
       "      <th>auction_id</th>\n",
       "      <th>experiment</th>\n",
       "      <th>date</th>\n",
       "      <th>hour</th>\n",
       "      <th>device_make</th>\n",
       "      <th>platform_os</th>\n",
       "      <th>browser</th>\n",
       "      <th>yes</th>\n",
       "      <th>no</th>\n",
       "    </tr>\n",
       "  </thead>\n",
       "  <tbody>\n",
       "    <tr>\n",
       "      <th>0</th>\n",
       "      <td>0008ef63-77a7-448b-bd1e-075f42c55e39</td>\n",
       "      <td>exposed</td>\n",
       "      <td>2020-07-10</td>\n",
       "      <td>8</td>\n",
       "      <td>Generic Smartphone</td>\n",
       "      <td>6</td>\n",
       "      <td>Chrome Mobile</td>\n",
       "      <td>0</td>\n",
       "      <td>0</td>\n",
       "    </tr>\n",
       "    <tr>\n",
       "      <th>1</th>\n",
       "      <td>000eabc5-17ce-4137-8efe-44734d914446</td>\n",
       "      <td>exposed</td>\n",
       "      <td>2020-07-07</td>\n",
       "      <td>10</td>\n",
       "      <td>Generic Smartphone</td>\n",
       "      <td>6</td>\n",
       "      <td>Chrome Mobile</td>\n",
       "      <td>0</td>\n",
       "      <td>0</td>\n",
       "    </tr>\n",
       "    <tr>\n",
       "      <th>2</th>\n",
       "      <td>0016d14a-ae18-4a02-a204-6ba53b52f2ed</td>\n",
       "      <td>exposed</td>\n",
       "      <td>2020-07-05</td>\n",
       "      <td>2</td>\n",
       "      <td>E5823</td>\n",
       "      <td>6</td>\n",
       "      <td>Chrome Mobile WebView</td>\n",
       "      <td>0</td>\n",
       "      <td>1</td>\n",
       "    </tr>\n",
       "    <tr>\n",
       "      <th>3</th>\n",
       "      <td>00187412-2932-4542-a8ef-3633901c98d9</td>\n",
       "      <td>control</td>\n",
       "      <td>2020-07-03</td>\n",
       "      <td>15</td>\n",
       "      <td>Samsung SM-A705FN</td>\n",
       "      <td>6</td>\n",
       "      <td>Facebook</td>\n",
       "      <td>0</td>\n",
       "      <td>0</td>\n",
       "    </tr>\n",
       "    <tr>\n",
       "      <th>4</th>\n",
       "      <td>001a7785-d3fe-4e11-a344-c8735acacc2c</td>\n",
       "      <td>control</td>\n",
       "      <td>2020-07-03</td>\n",
       "      <td>15</td>\n",
       "      <td>Generic Smartphone</td>\n",
       "      <td>6</td>\n",
       "      <td>Chrome Mobile</td>\n",
       "      <td>0</td>\n",
       "      <td>0</td>\n",
       "    </tr>\n",
       "  </tbody>\n",
       "</table>\n",
       "</div>"
      ],
      "text/plain": [
       "                             auction_id experiment        date  hour  \\\n",
       "0  0008ef63-77a7-448b-bd1e-075f42c55e39    exposed  2020-07-10     8   \n",
       "1  000eabc5-17ce-4137-8efe-44734d914446    exposed  2020-07-07    10   \n",
       "2  0016d14a-ae18-4a02-a204-6ba53b52f2ed    exposed  2020-07-05     2   \n",
       "3  00187412-2932-4542-a8ef-3633901c98d9    control  2020-07-03    15   \n",
       "4  001a7785-d3fe-4e11-a344-c8735acacc2c    control  2020-07-03    15   \n",
       "\n",
       "          device_make  platform_os                browser  yes  no  \n",
       "0  Generic Smartphone            6          Chrome Mobile    0   0  \n",
       "1  Generic Smartphone            6          Chrome Mobile    0   0  \n",
       "2               E5823            6  Chrome Mobile WebView    0   1  \n",
       "3   Samsung SM-A705FN            6               Facebook    0   0  \n",
       "4  Generic Smartphone            6          Chrome Mobile    0   0  "
      ]
     },
     "execution_count": 64,
     "metadata": {},
     "output_type": "execute_result"
    }
   ],
   "source": [
    "import pandas as pd\n",
    "import numpy as np\n",
    "import seaborn as sns\n",
    "from scipy.stats import ttest_ind\n",
    "import scipy\n",
    "from matplotlib import pyplot as plt\n",
    "%matplotlib inline \n",
    "data_result=pd.read_csv('../data/AdSmartABdata.csv')\n",
    "data_result.head()"
   ]
  },
  {
   "cell_type": "markdown",
   "id": "ca55aca3",
   "metadata": {},
   "source": [
    "# Exploration"
   ]
  },
  {
   "cell_type": "markdown",
   "id": "fa55a25b",
   "metadata": {},
   "source": [
    "Check for missing values first "
   ]
  },
  {
   "cell_type": "code",
   "execution_count": 4,
   "id": "acd8f5c3",
   "metadata": {},
   "outputs": [
    {
     "name": "stdout",
     "output_type": "stream",
     "text": [
      "The adSmartdata dataset contains 0.0 % missing values.\n"
     ]
    }
   ],
   "source": [
    "#let first check for null values \n",
    "\n",
    "def percent_missing(df):\n",
    "\n",
    "    # Calculate total number of cells in dataframe\n",
    "    totalCells = np.product(df.shape)\n",
    "\n",
    "    # Count number of missing values per column\n",
    "    missingCount = df.isnull().sum()\n",
    "\n",
    "    # Calculate total number of missing values\n",
    "    totalMissing = missingCount.sum()\n",
    "\n",
    "    # Calculate percentage of missing values\n",
    "    print(\"The adSmartdata dataset contains\", round(((totalMissing/totalCells) * 100), 2), \"%\", \"missing values.\")\n",
    "\n",
    "percent_missing(data_result)"
   ]
  },
  {
   "cell_type": "markdown",
   "id": "dfb496a5",
   "metadata": {},
   "source": [
    "Now that we do not have missing values then let us go on with the exploration"
   ]
  },
  {
   "cell_type": "markdown",
   "id": "66fcea36",
   "metadata": {},
   "source": [
    "Count unique values of categorical variables"
   ]
  },
  {
   "cell_type": "code",
   "execution_count": 14,
   "id": "44ecf1ad",
   "metadata": {},
   "outputs": [
    {
     "data": {
      "text/plain": [
       "15"
      ]
     },
     "execution_count": 14,
     "metadata": {},
     "output_type": "execute_result"
    }
   ],
   "source": []
  },
  {
   "cell_type": "code",
   "execution_count": 5,
   "id": "828e48b7",
   "metadata": {},
   "outputs": [
    {
     "data": {
      "text/plain": [
       "array(['Chrome Mobile', 'Chrome Mobile WebView', 'Facebook',\n",
       "       'Mobile Safari', 'Chrome Mobile iOS', 'Samsung Internet',\n",
       "       'Mobile Safari UI/WKWebView', 'Chrome', 'Opera Mini',\n",
       "       'Edge Mobile', 'Android', 'Pinterest', 'Opera Mobile',\n",
       "       'Firefox Mobile', 'Puffin'], dtype=object)"
      ]
     },
     "execution_count": 5,
     "metadata": {},
     "output_type": "execute_result"
    }
   ],
   "source": [
    "#list the browsers the users are using \n",
    "data_result['browser'].unique()"
   ]
  },
  {
   "cell_type": "code",
   "execution_count": 6,
   "id": "b3f87ece",
   "metadata": {},
   "outputs": [
    {
     "name": "stdout",
     "output_type": "stream",
     "text": [
      "The users are using  15 unique browsers.\n"
     ]
    }
   ],
   "source": [
    "#count unique browsers \n",
    "print(\"The users are using \", len(data_result['browser'].unique()),  \"unique browsers.\")\n"
   ]
  },
  {
   "cell_type": "code",
   "execution_count": 17,
   "id": "1cac367a",
   "metadata": {},
   "outputs": [
    {
     "data": {
      "text/plain": [
       "array(['Generic Smartphone', 'E5823', 'Samsung SM-A705FN',\n",
       "       'Samsung SM-G960F', 'Samsung SM-G973F', 'iPhone',\n",
       "       'Samsung SM-G935F', 'HTC One', 'LG-$2', 'Samsung SM-A202F',\n",
       "       'XT1032', 'COL-L29', 'Samsung SM-N960U1', 'Samsung SM-A715F',\n",
       "       'Samsung SM-G930F', 'I3312', 'Samsung SM-G950F', 'FIG-LX1',\n",
       "       'Samsung SM-G920F', 'MRD-LX1', 'Samsung SM-N950F', 'Moto $2',\n",
       "       'Samsung SM-G970F', 'Samsung GT-I9505', 'Samsung SM-G981B',\n",
       "       'Pixel 3a', 'Samsung SM-J600FN', 'Samsung SM-A105FN',\n",
       "       'OnePlus ONEPLUS A3003', 'POT-LX1', 'Samsung SM-G975F',\n",
       "       'Samsung SM-J330FN', 'Samsung SM-G770F', 'H3311', 'MAR-LX1A',\n",
       "       'HTC One $2', 'Samsung SM-G965F', 'ELE-L09', 'Samsung SM-J415FN',\n",
       "       'Samsung SM-G900F', 'Lenovo A1010a20', 'CLT-L09', 'HTC Desire $2',\n",
       "       'Samsung SM-G980F', 'Samsung SM-G955F', 'Samsung SM-N960F',\n",
       "       'Nexus 5', 'Samsung SM-J260F', 'HTC U11', 'Samsung SM-A405FN',\n",
       "       'Samsung SM-A600FN', 'ANE-LX1', 'VOG-L09', 'Samsung SM-G986B',\n",
       "       'XiaoMi Redmi Note 4', 'ELE-L29', 'Samsung $2',\n",
       "       'Samsung SM-A320FL', 'OnePlus ONEPLUS A5000', 'Samsung SM-A505FN',\n",
       "       'Nokia undefined$2$3', 'Samsung SM-A750FN', 'Samsung SM-A310F',\n",
       "       'Samsung SM-A520F', 'OnePlus ONEPLUS A5010', 'Samsung SM-N975F',\n",
       "       'Pixel 4', 'LYA-L09', 'Samsung SM-G988B', 'VOG-L29',\n",
       "       'Samsung SM-N976B', '5008Y_EEA', 'CLT-L29', 'PRA-LX1',\n",
       "       'Samsung SM-J320FN', 'Samsung SM-J530F', 'Samsung SM-A530F',\n",
       "       'BKL-L09', 'Pixel 3', 'Samsung SM-A515F', 'Nokia$2$3', 'F8331',\n",
       "       'Samsung SM-A300FU', 'Samsung SM-G390F', 'VFD 710',\n",
       "       'XiaoMi Redmi 6', 'Samsung SM-G901F', 'OnePlus ONEPLUS A6003',\n",
       "       'Samsung SM-A500FU', 'Samsung SM-G900V', 'SNE-LX1', 'STF-L09',\n",
       "       'HTC 10', 'Samsung SM-J510FN', 'Samsung SM-J610FN', 'S8',\n",
       "       'XiaoMi Redmi Note 7', 'Samsung SM-G800F', 'EML-L09',\n",
       "       'Samsung SM-N970F', 'Huawei Browser', 'OnePlus ONEPLUS A6013',\n",
       "       'Samsung GT-I8200N', 'Samsung SM-A920F', 'NEM-L51',\n",
       "       'Samsung SM-G570F', 'Samsung SM-G925F', 'VFD 820', 'Asus I01WD',\n",
       "       'HUAWEI $2', 'OnePlus ONEPLUS A6000', 'Samsung SM-J710F',\n",
       "       'Samsung SM-G928F', 'XiaoMi Redmi 8', 'H3113', 'DUB-LX1',\n",
       "       'Pixel 2', 'Samsung GT-I9195', 'WAS-LX1A', 'F5321',\n",
       "       'XiaoMi MI 8 Pro', 'EVA-L09', 'Samsung SM-J730F', 'LYA-L29',\n",
       "       'VFD 500', 'YAL-L21', 'HTC U12+', 'Samsung SM-J330G',\n",
       "       'XiaoMi MI 8', 'Samsung undefined$2', 'G3311', 'G3121', 'DUA-L22',\n",
       "       'Samsung SM-G950U1', 'Samsung SM-G850F', 'Samsung GT-I9505 ',\n",
       "       'Samsung SM-A107F', 'BBB100-2', 'VFD 610', 'XiaoMi Redmi 6A',\n",
       "       '5099Y', 'Samsung SM-F907B', 'Samsung SM-N9500', 'D5503',\n",
       "       'Samsung SM-G977B', 'Lumia 950', 'Samsung GT-P5210 ', 'COR-L29',\n",
       "       'LDN-L01', 'Samsung SM-J710MN', 'Lenovo A7020a48',\n",
       "       'Samsung SM-G965U1', 'Samsung SM-N910F', 'CUBOT_X18_Plus',\n",
       "       'Samsung SM-A507FN', 'BLA-L09', 'Samsung SM-G900T', 'VTR-L09',\n",
       "       'Samsung SM-J500FN', 'moto e5 play', 'A0001', 'PCT-L29',\n",
       "       'Samsung SM-G925I', 'HTC M10h', 'Vodafone $2', 'Samsung SM-G6100',\n",
       "       'D5803', 'Samsung SM-A505F', 'Samsung SM-G986U1',\n",
       "       'Samsung SM-N9750', 'D6603', 'VFD 700', '6039Y',\n",
       "       'Samsung SM-N920I', 'Samsung SM-G950U', 'XiaoMi Redmi Note 8T',\n",
       "       'Samsung SM-G935U', 'Samsung SM-A105G', 'OnePlus ONE A2003',\n",
       "       'Samsung GT-I9195I', 'C2105', 'ALE-L21', 'Samsung SM-G930L',\n",
       "       'XT1580', 'Samsung SM-G973U', 'XiaoMi Redmi Note 8 Pro',\n",
       "       'Samsung SM-A015M', 'Samsung SM-G388F', 'Samsung SM-N976V',\n",
       "       'VFD 720', 'Samsung SM-G930U', 'EVR-N29', 'XiaoMi Redmi Note 8',\n",
       "       'F3111', 'EML-L29', 'Samsung SM-G610F', 'Samsung SM-A305F',\n",
       "       'Samsung SM-J701F', 'Samsung SM-A510F', 'IMO $2', 'Pixel XL',\n",
       "       'Samsung SM-A415F', 'Samsung SM-A217F', 'Samsung SM-A908B',\n",
       "       'BBF100-1', 'HTC U11 $2', 'E6653', 'Samsung SM-G903F', 'VKY-L09',\n",
       "       'Samsung SM-A207F', 'XiaoMi MI MAX 3', 'F3311', 'Lenovo P2a42',\n",
       "       'Samsung SM-A205G', 'Samsung SM-A605F', 'VF-795', 'VF-895N',\n",
       "       'Samsung SM-A605G', 'D6503', 'Armor_3', 'FRD-L09', 'TA-1033',\n",
       "       'Doro 8030', 'moto e5 plus', 'Samsung SM-J250F',\n",
       "       'Samsung SM-C9000', 'Moto$2', 'Samsung SM-A105F', 'ATU-L11',\n",
       "       'Samsung SM-N770F', 'TA-1020', 'DLI-L22', 'Samsung SM-A805F',\n",
       "       'XiaoMi Redmi Note 6 Pro', 'Samsung SM-G955U', 'Samsung GT-I9300',\n",
       "       'C6903', 'RNE-L21', 'Samsung SM-G361F', 'G3221',\n",
       "       'Samsung SM-G930T', 'Samsung SM-J510GN', 'Samsung SM-A700F',\n",
       "       'CPH1851', 'X13', 'OnePlus ONE E1003', 'Samsung SM-J810F',\n",
       "       'TA-1024', 'OnePlus ONEPLUS A3000', 'XiaoMi Redmi 3S', 'MHA-L09',\n",
       "       'XiaoMi MI 6', 'K7', 'Swift 2 Plus', 'X4_Soul_Infinity_Z',\n",
       "       'Samsung SM-G960U1', 'Wileyfox Swift', 'Samsung SM-J330F',\n",
       "       'PLK-L01', 'Samsung SM-A750GN', 'Samsung SM-G930V',\n",
       "       'XiaoMi Redmi 5 Plus', 'Samsung SM-J610G', 'VCE-L22',\n",
       "       'Samsung SM-G960U', 'Samsung SM-G9730', 'Samsung SM-G955U1',\n",
       "       'XiaoMi Redmi S2', 'Samsung SM-A205F', 'XiaoMi Redmi Note 5'],\n",
       "      dtype=object)"
      ]
     },
     "execution_count": 17,
     "metadata": {},
     "output_type": "execute_result"
    }
   ],
   "source": [
    "#list the type of phones the users are using \n",
    "data['device_make'].unique()"
   ]
  },
  {
   "cell_type": "code",
   "execution_count": 7,
   "id": "0bd8c185",
   "metadata": {},
   "outputs": [
    {
     "name": "stdout",
     "output_type": "stream",
     "text": [
      "The users are using  270 unique devices .\n"
     ]
    }
   ],
   "source": [
    "#count unique devices \n",
    "print(\"The users are using \", len(data_result['device_make'].unique()),  \"unique devices .\")"
   ]
  },
  {
   "cell_type": "markdown",
   "id": "66dd1df1",
   "metadata": {},
   "source": [
    "# More exploration to understand the data "
   ]
  },
  {
   "cell_type": "code",
   "execution_count": 20,
   "id": "0b5f40a8",
   "metadata": {},
   "outputs": [
    {
     "data": {
      "text/plain": [
       "Index(['auction_id', 'experiment', 'date', 'hour', 'device_make',\n",
       "       'platform_os', 'browser', 'yes', 'no'],\n",
       "      dtype='object')"
      ]
     },
     "execution_count": 20,
     "metadata": {},
     "output_type": "execute_result"
    }
   ],
   "source": [
    "#Let us look at the columns in the dataset\n",
    "data.columns"
   ]
  },
  {
   "cell_type": "code",
   "execution_count": 12,
   "id": "fd168e41",
   "metadata": {},
   "outputs": [
    {
     "ename": "AttributeError",
     "evalue": "'DataFrameGroupBy' object has no attribute 'value_count'",
     "output_type": "error",
     "traceback": [
      "\u001b[0;31m---------------------------------------------------------------------------\u001b[0m",
      "\u001b[0;31mAttributeError\u001b[0m                            Traceback (most recent call last)",
      "\u001b[0;32m<ipython-input-12-10905b6f2899>\u001b[0m in \u001b[0;36m<module>\u001b[0;34m\u001b[0m\n\u001b[1;32m      1\u001b[0m \u001b[0;31m#let us group the answers by the experiment\u001b[0m\u001b[0;34m\u001b[0m\u001b[0;34m\u001b[0m\u001b[0;34m\u001b[0m\u001b[0m\n\u001b[1;32m      2\u001b[0m \u001b[0;34m\u001b[0m\u001b[0m\n\u001b[0;32m----> 3\u001b[0;31m \u001b[0mtim\u001b[0m \u001b[0;34m=\u001b[0m  \u001b[0mdata_result\u001b[0m\u001b[0;34m.\u001b[0m\u001b[0mgroupby\u001b[0m\u001b[0;34m(\u001b[0m\u001b[0;34m[\u001b[0m\u001b[0;34m'experiment'\u001b[0m\u001b[0;34m,\u001b[0m\u001b[0;34m'yes'\u001b[0m\u001b[0;34m]\u001b[0m\u001b[0;34m)\u001b[0m\u001b[0;34m.\u001b[0m\u001b[0mvalue_count\u001b[0m\u001b[0;34m(\u001b[0m\u001b[0;34m)\u001b[0m\u001b[0;34m\u001b[0m\u001b[0;34m\u001b[0m\u001b[0m\n\u001b[0m\u001b[1;32m      4\u001b[0m \u001b[0mtim\u001b[0m\u001b[0;34m.\u001b[0m\u001b[0mhead\u001b[0m\u001b[0;34m(\u001b[0m\u001b[0;34m)\u001b[0m\u001b[0;34m\u001b[0m\u001b[0;34m\u001b[0m\u001b[0m\n",
      "\u001b[0;32m~/opt/anaconda3/lib/python3.7/site-packages/pandas/core/groupby/groupby.py\u001b[0m in \u001b[0;36m__getattr__\u001b[0;34m(self, attr)\u001b[0m\n\u001b[1;32m    751\u001b[0m \u001b[0;34m\u001b[0m\u001b[0m\n\u001b[1;32m    752\u001b[0m         raise AttributeError(\n\u001b[0;32m--> 753\u001b[0;31m             \u001b[0;34mf\"'{type(self).__name__}' object has no attribute '{attr}'\"\u001b[0m\u001b[0;34m\u001b[0m\u001b[0;34m\u001b[0m\u001b[0m\n\u001b[0m\u001b[1;32m    754\u001b[0m         )\n\u001b[1;32m    755\u001b[0m \u001b[0;34m\u001b[0m\u001b[0m\n",
      "\u001b[0;31mAttributeError\u001b[0m: 'DataFrameGroupBy' object has no attribute 'value_count'"
     ]
    }
   ],
   "source": [
    "#let us group the answers by the experiment \n",
    "\n",
    "tim =  data_result.groupby(['experiment','yes']).value_count()\n",
    "tim.head()"
   ]
  },
  {
   "cell_type": "code",
   "execution_count": 9,
   "id": "1f68f235",
   "metadata": {},
   "outputs": [
    {
     "data": {
      "text/plain": [
       "<AxesSubplot:xlabel='browser', ylabel='count'>"
      ]
     },
     "execution_count": 9,
     "metadata": {},
     "output_type": "execute_result"
    },
    {
     "data": {
      "image/png": "[encoded data removed]",
      "text/plain": [
       "<Figure size 1080x576 with 1 Axes>"
      ]
     },
     "metadata": {
      "needs_background": "light"
     },
     "output_type": "display_data"
    }
   ],
   "source": [
    "#plot browsers\n",
    "plt.figure(figsize=(15,8))\n",
    "plt.xticks(rotation=90)\n",
    "sns.countplot(x='browser',data=data_result)\n"
   ]
  },
  {
   "cell_type": "markdown",
   "id": "939731a0",
   "metadata": {},
   "source": [
    "As it can be seen in the graph above chrome Mobile wa the mostly used to access the ad followed by chrom mobile webview and then facebook"
   ]
  },
  {
   "cell_type": "code",
   "execution_count": 10,
   "id": "35261cab",
   "metadata": {},
   "outputs": [
    {
     "data": {
      "text/plain": [
       "<AxesSubplot:xlabel='experiment', ylabel='count'>"
      ]
     },
     "execution_count": 10,
     "metadata": {},
     "output_type": "execute_result"
    },
    {
     "data": {
      "image/png": "[encoded data removed]",
      "text/plain": [
       "<Figure size 432x288 with 1 Axes>"
      ]
     },
     "metadata": {
      "needs_background": "light"
     },
     "output_type": "display_data"
    }
   ],
   "source": [
    "#Compare amount of response from differnt groups\n",
    "sns.countplot(x='experiment',data=data_result)"
   ]
  },
  {
   "cell_type": "markdown",
   "id": "35825715",
   "metadata": {},
   "source": [
    "As it can be seen above equal number of users made responses in both exposed and control group"
   ]
  },
  {
   "cell_type": "code",
   "execution_count": 11,
   "id": "76f1a961",
   "metadata": {},
   "outputs": [
    {
     "data": {
      "text/plain": [
       "<AxesSubplot:xlabel='experiment', ylabel='yes'>"
      ]
     },
     "execution_count": 11,
     "metadata": {},
     "output_type": "execute_result"
    },
    {
     "data": {
      "image/png": "[encoded data removed]",
      "text/plain": [
       "<Figure size 432x288 with 1 Axes>"
      ]
     },
     "metadata": {
      "needs_background": "light"
     },
     "output_type": "display_data"
    }
   ],
   "source": [
    "#combine date and hour and covert them to datetime \n",
    "sns.barplot(x='experiment',y='yes',data=data_result)"
   ]
  },
  {
   "cell_type": "code",
   "execution_count": 58,
   "id": "dc960ec5",
   "metadata": {},
   "outputs": [
    {
     "data": {
      "text/plain": [
       "<AxesSubplot:xlabel='experiment', ylabel='no'>"
      ]
     },
     "execution_count": 58,
     "metadata": {},
     "output_type": "execute_result"
    },
    {
     "data": {
      "image/png": "[encoded data removed]",
      "text/plain": [
       "<Figure size 432x288 with 1 Axes>"
      ]
     },
     "metadata": {
      "needs_background": "light"
     },
     "output_type": "display_data"
    }
   ],
   "source": [
    "#combine date and hour and covert them to datetime \n",
    "sns.barplot(x='experiment',y='no',data=data_result)"
   ]
  },
  {
   "cell_type": "code",
   "execution_count": 54,
   "id": "86673d8a",
   "metadata": {},
   "outputs": [
    {
     "data": {
      "text/plain": [
       "0        8\n",
       "1       10\n",
       "2        2\n",
       "3       15\n",
       "4       15\n",
       "        ..\n",
       "8072     7\n",
       "8073    15\n",
       "8074     9\n",
       "8075    15\n",
       "8076    14\n",
       "Name: hour, Length: 8077, dtype: int64"
      ]
     },
     "execution_count": 54,
     "metadata": {},
     "output_type": "execute_result"
    }
   ],
   "source": [
    "#combine date and hour and covert them to datetime \n",
    "sns.barplot(x='experiment',y='date',data=data_result)"
   ]
  },
  {
   "cell_type": "markdown",
   "id": "a5948872",
   "metadata": {},
   "source": [
    "# Perform hypothesis testing: apply the classical p-value based algorithm"
   ]
  },
  {
   "cell_type": "code",
   "execution_count": 73,
   "id": "1b21e782",
   "metadata": {},
   "outputs": [
    {
     "data": {
      "text/plain": [
       "0.05"
      ]
     },
     "execution_count": 73,
     "metadata": {},
     "output_type": "execute_result"
    }
   ],
   "source": [
    "#Setting the null hypothesis\n",
    "#Ho: The null hypothesis (Ho)states that there is no difference between the control and exposed group in \n",
    "#other words the advertising campaign will not result in a significant lift in brand awareness\n",
    "\n",
    "#Setting the alternative hypothesis \n",
    "#H1: The alternative hypothesis states that there will be a significant lift in brand awareness as \n",
    "#a result of the advertising caompaign\n",
    "\n",
    "\n",
    "# Click Through rate (CTR) = # of yes/total events \n",
    "#let CTR for control be = pc and CTR for exposed be equal to pe \n",
    "#therefore our hypothesis will be Ho : pc=pe and H1 or alternative hypothesis h1: pc!=pe \n",
    "\n",
    "\n",
    "#let alpha our level of significance = 0.05, the probability of rejecting the null hypothesis Ho \n",
    "#The confidence level (the probability of not rejecting the null hypothesis ) be 1-alpha which is 0.95\n",
    "alpha =0.05 \n",
    "\n",
    "#let beta be the probability of failing to reject the null hypothesis when Ho is false \n",
    "\n",
    "# 1-beta the probability of rejecting the null hypothesis Ho when Ho is false also called the power of a test (.80)\n",
    "\n",
    "alpha\n"
   ]
  },
  {
   "cell_type": "code",
   "execution_count": 24,
   "id": "55714777",
   "metadata": {},
   "outputs": [],
   "source": [
    "g= data_result.groupby('experiment')['yes'].value_counts()"
   ]
  },
  {
   "cell_type": "code",
   "execution_count": 25,
   "id": "c958f92b",
   "metadata": {},
   "outputs": [
    {
     "data": {
      "text/plain": [
       "experiment  yes\n",
       "control     0      3807\n",
       "            1       264\n",
       "exposed     0      3698\n",
       "            1       308\n",
       "Name: yes, dtype: int64"
      ]
     },
     "execution_count": 25,
     "metadata": {},
     "output_type": "execute_result"
    }
   ],
   "source": [
    "g['control']"
   ]
  },
  {
   "cell_type": "code",
   "execution_count": 31,
   "id": "2fc4d0f5",
   "metadata": {},
   "outputs": [
    {
     "data": {
      "text/plain": [
       "yes\n",
       "0    3807\n",
       "1     264\n",
       "Name: yes, dtype: int64"
      ]
     },
     "execution_count": 31,
     "metadata": {},
     "output_type": "execute_result"
    }
   ],
   "source": [
    "g['control']"
   ]
  },
  {
   "cell_type": "code",
   "execution_count": 26,
   "id": "5824206b",
   "metadata": {},
   "outputs": [
    {
     "data": {
      "text/plain": [
       "experiment  no\n",
       "control     0     3749\n",
       "            1      322\n",
       "exposed     0     3657\n",
       "            1      349\n",
       "Name: no, dtype: int64"
      ]
     },
     "execution_count": 26,
     "metadata": {},
     "output_type": "execute_result"
    }
   ],
   "source": [
    "data_result.groupby('experiment')['no'].value_counts()"
   ]
  },
  {
   "cell_type": "code",
   "execution_count": 37,
   "id": "ac2b751b",
   "metadata": {},
   "outputs": [],
   "source": [
    "yes_clicks=data_result.groupby('experiment')['yes'].sum()"
   ]
  },
  {
   "cell_type": "code",
   "execution_count": 38,
   "id": "0445d04e",
   "metadata": {},
   "outputs": [
    {
     "data": {
      "text/plain": [
       "experiment\n",
       "control    264\n",
       "exposed    308\n",
       "Name: yes, dtype: int64"
      ]
     },
     "execution_count": 38,
     "metadata": {},
     "output_type": "execute_result"
    }
   ],
   "source": [
    "yes_clicks"
   ]
  },
  {
   "cell_type": "code",
   "execution_count": 35,
   "id": "e266c0df",
   "metadata": {},
   "outputs": [],
   "source": [
    "No_clicks=data_result.groupby('experiment')['no'].sum()"
   ]
  },
  {
   "cell_type": "code",
   "execution_count": 36,
   "id": "049b2fe5",
   "metadata": {},
   "outputs": [
    {
     "data": {
      "text/plain": [
       "experiment\n",
       "control    322\n",
       "exposed    349\n",
       "Name: no, dtype: int64"
      ]
     },
     "execution_count": 36,
     "metadata": {},
     "output_type": "execute_result"
    }
   ],
   "source": [
    "No_clicks"
   ]
  },
  {
   "cell_type": "code",
   "execution_count": 41,
   "id": "ee09c13b",
   "metadata": {},
   "outputs": [
    {
     "name": "stdout",
     "output_type": "stream",
     "text": [
      "Control has a total impression of  586 and Exposed group has a total impression of 657 \n"
     ]
    }
   ],
   "source": [
    "#Let n1 be the total that were sample or total impressions for control users \n",
    "n_control = (No_clicks['control'].sum() + yes_clicks['control'].sum())\n",
    "n_exposed = (No_clicks['exposed'].sum() + yes_clicks['exposed'].sum())\n",
    "print(f'Control has a total impression of  {n_control} and Exposed group has a total impression of {n_exposed} ')"
   ]
  },
  {
   "cell_type": "code",
   "execution_count": 42,
   "id": "b7ed4f0e",
   "metadata": {},
   "outputs": [
    {
     "name": "stdout",
     "output_type": "stream",
     "text": [
      "The CTR for the control group is   0.45051194539249145 and The CTR for the exposed group is 0.5255972696245734 \n"
     ]
    }
   ],
   "source": [
    "# Click Through rate (CTR) = # of yes/total events \n",
    "#let CTR for control be = pc and CTR for exposed be equal to pe\n",
    "\n",
    "pc =yes_clicks['control'].sum() / n_control\n",
    "pe =yes_clicks['exposed'].sum() / n_control\n",
    "print(f'The CTR for the control group is   {pc} and The CTR for the exposed group is {pe} ')\n",
    "\n",
    "\n",
    "\n"
   ]
  },
  {
   "cell_type": "code",
   "execution_count": 70,
   "id": "28da8905",
   "metadata": {},
   "outputs": [
    {
     "name": "stdout",
     "output_type": "stream",
     "text": [
      "SE : 0.028319932727228023\n",
      "\n",
      " The p_val is 0.008119779591985177\n",
      "\n",
      " we reject the null hypothesis Ho\n",
      "\n",
      " Therefore we can say that there is a statistical difference between the dummy ad and the improved ad \n"
     ]
    }
   ],
   "source": [
    "def ind_t_test(No_clicks,yes_clicks, alpha=0.05,output_bool =False, state_conclusion = False, express= False):\n",
    "    #calculate the difference d\n",
    "    n_control = (No_clicks['control'].sum() + yes_clicks['control'].sum())\n",
    "    pc =yes_clicks['control'].sum() / n_control\n",
    "    n_exposed = (No_clicks['exposed'].sum() + yes_clicks['exposed'].sum())\n",
    "    pe =yes_clicks['exposed'].sum() / n_control\n",
    "    d=pe-pc\n",
    "    #calculate the standard error for the proportions \n",
    "    p_overall = (yes_clicks['exposed'].sum()+yes_clicks['control'].sum())/(n_control+n_exposed)\n",
    "    #calculate Term1 \n",
    "    se_control = (p_overall * (1-p_overall))/n_control\n",
    "    #calculate Term 2\n",
    "    se_exposed = (p_overall * (1-p_overall))/n_exposed\n",
    "    \n",
    "    #square the terms \n",
    "    standardError = np.sqrt(float(se_control)+float(se_exposed))\n",
    "    print('SE :',standardError)\n",
    "    \n",
    "    #T static calculation \n",
    "    tStatistic = (d-0)/standardError\n",
    "    #degree of freedom \n",
    "    dof = (n_control+n_exposed-2.0)\n",
    "    \n",
    "    #crtitical T value Test Statistic \n",
    "    criticalValue = scipy.stats.t.ppf(1.0-alpha, df= dof)\n",
    "    #Confidence interval \n",
    "    confInt = [d- (criticalValue*standardError),d+(criticalValue*standardError)]\n",
    "    \n",
    "    #calculate the p-value\n",
    "    \n",
    "    p_val = (1- scipy.stats.t.cdf(abs(tStatistic), df \\\n",
    "                                 = ( n_control+n_exposed-2)))* 2.0\n",
    "    print('\\n The p_val is', p_val)\n",
    "    if p_val < alpha:\n",
    "        print('\\n we reject the null hypothesis Ho')\n",
    "        print ('\\n Therefore we can say that there is a statistical '+\\\n",
    "           'difference between the dummy ad and the improved ad ')\n",
    "    else:\n",
    "        print('\\n we fail to reject the null hypothesis Ho')\n",
    "        print ('\\n Therefore we can say that there is no  statistical '+\\\n",
    "               'difference between the dummy ad and the improved ad ')\n",
    "    return p_val\n",
    "\n",
    "p_val = ind_t_test(No_clicks=No_clicks,yes_clicks=yes_clicks,alpha=alpha,output_bool =True,state_conclusion = False)\n",
    "    \n",
    "\n",
    "    "
   ]
  },
  {
   "cell_type": "markdown",
   "id": "eaac7a6b",
   "metadata": {},
   "source": [
    "# Using sequentail testing "
   ]
  },
  {
   "cell_type": "code",
   "execution_count": 72,
   "id": "e8171939",
   "metadata": {},
   "outputs": [],
   "source": [
    "#@title\n",
    "#REFERENCE\n",
    "# A Conditional Sequential Test for the Equality of Two Binomial Proportions\n",
    "# William Q. Meeker, Jr\n",
    "# Journal of the Royal Statistical Society. Series C (Applied Statistics)\n",
    "# Vol. 30, No. 2 (1981), pp. 109-115\n",
    "def ConditionalSPRT(self,x,y,t1,alpha=0.05,beta=0.10,stop=None):\n",
    "        if t1<=1:\n",
    "            printLog('warning',\"Odd ratio should exceed 1.\")\n",
    "        if (alpha >0.5) | (beta >0.5):\n",
    "            printLog('warning',\"Unrealistic values of alpha or beta were passed.\"\n",
    "                     +\" You should have good reason to use large alpha & beta values\")\n",
    "        if stop!=None:\n",
    "            stop=math.floor(n0)\n",
    "\n",
    "        def comb(n, k):\n",
    "            return factorial(n) // factorial(k) // factorial(n - k)\n",
    "        \n",
    "        def lchoose(b, j):\n",
    "            a=[]\n",
    "            if (type(j) is list) | (isinstance(j,np.ndarray)==True):\n",
    "                if len(j)<2:\n",
    "                    j=j[0]\n",
    "            if (type(j) is list) | (isinstance(j,np.ndarray)==True):\n",
    "                for k in j:\n",
    "                    n=b\n",
    "                    if (0 <= k) & (k<= n):\n",
    "                        a.append(math.log(comb(n,k)))\n",
    "                    else:\n",
    "                        a.append(0)\n",
    "            else:\n",
    "                n=b\n",
    "                k=j\n",
    "                if (0 <= k) & (k<= n):\n",
    "                    a.append(math.log(comb(n,k)))\n",
    "                else:\n",
    "                    a.append(0)\n",
    "\n",
    "            return np.array(a)\n",
    "\n",
    "        def g(x,r,n,t1,t0=1):\n",
    "            return -math.log(h(x,r,n,t1))+math.log(h(x,r,n,t0))\n",
    "\n",
    "        def h(x,r,n,t=1):\n",
    "            return f(r,n,t,offset=ftermlog(x,r,n,t))\n",
    "\n",
    "        def f(r,n,t,offset=0):\n",
    "            upper=max(0,r-n)\n",
    "            lower=min(n,r)\n",
    "            rng=list(range(upper,lower+1))\n",
    "            return np.sum(fterm(rng,r,n,t,offset))\n",
    "\n",
    "        def fterm(j,r,n,t,offset=0):\n",
    "            ftlog=ftermlog(j,r,n,t,offset)\n",
    "            return np.array([math.exp(ex) for ex in ftlog])\n",
    "\n",
    "        def ftermlog(j,r,n,t,offset=0):\n",
    "            xx=r-j\n",
    "            lch=lchoose(n,j)\n",
    "            lchdiff=lchoose(n,xx)\n",
    "            lg=np.array(j)*math.log(t)\n",
    "            lgsum=lch+lchdiff\n",
    "            lgsum2=lgsum+lg\n",
    "            lgdiff=lgsum2-offset\n",
    "\n",
    "            return lgdiff\n",
    "\n",
    "        def logf(r,n,t,offset=0):\n",
    "\n",
    "            z=f(r,n,t,offset)\n",
    "            if z>0:\n",
    "                return math.log(z)\n",
    "            else:\n",
    "                return np.nan\n",
    "\n",
    "        def clowerUpper(r,n,t1c,t0=1,alpha=0.05,beta=0.10):\n",
    "            offset=ftermlog(math.ceil(r/2),r,n,t1c)\n",
    "            z=logf(r,n,t1c,logf(r,n,t0,offset)+offset)\n",
    "            a=-math.log(alpha/(1-beta))\n",
    "            b=math.log(beta/(1-alpha))\n",
    "            lower=b\n",
    "            upper=1+a\n",
    "            return (np.array([lower,upper])+z)/math.log(t1c/t0)\n",
    "            \n",
    "        l=math.log(beta/(1-alpha))\n",
    "        u=-math.log(alpha/(1-beta))\n",
    "        sample_size=min(len(x),len(y))\n",
    "        n=np.array(range(1,sample_size+1))\n",
    "\n",
    "        if stop!=None:\n",
    "            n=np.array([z for z in n if z<=stop])\n",
    "        x1=np.cumsum(x[n-1])\n",
    "        r=x1+np.cumsum(y[n-1])\n",
    "        stats=np.array(list(map(g,x1, r, n, [t1]*len(x1)))) #recurcively calls g\n",
    "\n",
    "        clu=list(map(clowerUpper,r,n,[t1]*len(r),[1]*len(r),[alpha]*len(r), [beta]*len(r)))\n",
    "        limits=[]\n",
    "        for v in clu:\n",
    "            inArray=[]\n",
    "            for vin in v:\n",
    "                inArray.append(math.floor(vin))\n",
    "            limits.append(np.array(inArray))\n",
    "        limits=np.array(limits)\n",
    "\n",
    "        k=np.where((stats>=u) | (stats<=l))\n",
    "        cvalues=stats[k]\n",
    "        if cvalues.shape[0]<1:\n",
    "            k= np.nan\n",
    "            outcome='Unable to conclude.Needs more sample.'\n",
    "        else:\n",
    "            k=np.min(k)\n",
    "            if stats[k]>=u:\n",
    "                outcome=f'Exposed group produced a statistically significant increase.'\n",
    "            else:\n",
    "                outcome='Their is no statistically significant difference between two test groups'\n",
    "        if (stop!=None) & (k==np.nan):\n",
    "            c1=clowerUpper(r,stop,t1,alpha,beta)\n",
    "            c1=math.floor(np.mean(c1)-0.5)\n",
    "            if x1[n0]<=c1:\n",
    "                truncate_decision='h0'\n",
    "                outcome='Maximum Limit Decision. The aproximate decision point shows their is no statistically significant difference between two test groups'\n",
    "            else:\n",
    "                truncate_decision='h1'\n",
    "                outcome=f'Maximum Limit Decision. The aproximate decision point shows exposed group produced a statistically significant increase.'\n",
    "            truncated=stop\n",
    "        else:\n",
    "            truncate_decision='Non'\n",
    "            truncated=np.nan\n",
    "        return (outcome,n, k,l,u,truncated,truncate_decision,x1,r,stats,limits)"
   ]
  },
  {
   "cell_type": "code",
   "execution_count": null,
   "id": "0a1027f2",
   "metadata": {},
   "outputs": [],
   "source": [
    "class SequentialTest:\n",
    "  def __init__(self,exposed,control):\n",
    "    #initialize varibles\n",
    "    self.exposed =exposed \n",
    "    self.control = control\n",
    "    \n",
    "\n",
    "  \n",
    "  def stoppingRule(self, ...):\n",
    "    '''\n",
    "    This function should take current observation and return statistical decision made. \n",
    "    Consider truncate rule for longer tests\n",
    "    '''\n",
    "    S, a, b,\n",
    "\n",
    "  def computeBoundaries(self,):\n",
    "    '''\n",
    "    This function shoud compute boundaries \n",
    "    '''\n",
    "\n",
    "  def plotTest(self,):\n",
    "    '''\n",
    "    showing the cumulative statistical test (e.g., log probability ratio) and the uper and lower limits.\n",
    "    '''\n",
    "\n",
    "  def plotBoundaries(self,):\n",
    "    '''cumulative sums of exposed successes, bounded by the critical limits.\n",
    "    '''"
   ]
  }
 ],
 "metadata": {
  "kernelspec": {
   "display_name": "Python 3",
   "language": "python",
   "name": "python3"
  },
  "language_info": {
   "codemirror_mode": {
    "name": "ipython",
    "version": 3
   },
   "file_extension": ".py",
   "mimetype": "text/x-python",
   "name": "python",
   "nbconvert_exporter": "python",
   "pygments_lexer": "ipython3",
   "version": "3.7.10"
  }
 },
 "nbformat": 4,
 "nbformat_minor": 5
}
